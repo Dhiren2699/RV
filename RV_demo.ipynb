{
 "cells": [
  {
   "cell_type": "markdown",
   "id": "c4c96acc",
   "metadata": {},
   "source": [
    "# Robin's Viewer Demo\n",
    "## EEG data loading, visualization, and preprocessing with MNE-Python and Robin's Viewer (RV).\n",
    "\n",
    "<font size=\"3\">Contents:</font> \n",
    "* Load demo EEG recording\n",
    "* Bandpass-filter the signal\n",
    "* Downsample the signal for viewing\n",
    "* Clean the filtered signal\n",
    "    * Mark bad channels in the filtered signal using RV\n",
    "    * Mark transient artifacts using RV (guided by the deep-learning model)"
   ]
  },
  {
   "cell_type": "code",
   "execution_count": 1,
   "id": "9138d9fe",
   "metadata": {},
   "outputs": [],
   "source": [
    "import os\n",
    "import mne"
   ]
  },
  {
   "cell_type": "markdown",
   "id": "3645d6db",
   "metadata": {},
   "source": [
    "### 1. Load a raw EEG recording\n",
    "<font size=\"3\">We assume you have downloaded the demo data from the link provided in the **\"README.md\"** file. It should be stored in the *data* directory.</font> "
   ]
  },
  {
   "cell_type": "code",
   "execution_count": 2,
   "id": "ef9197fa",
   "metadata": {},
   "outputs": [],
   "source": [
    "# Input folder and file\n",
    "infolder = './data'\n",
    "file_name = \"demo_signal.raw\"\n",
    "# Output folder\n",
    "outfolder = './save_files'\n",
    "\n",
    "if not os.path.exists(outfolder):\n",
    "    os.mkdir(outfolder)\n",
    "\n",
    "# File paths\n",
    "file_path = os.path.join(infolder, file_name)\n",
    "montage_path = os.path.join(infolder, 'GSN129.sfp')"
   ]
  },
  {
   "cell_type": "code",
   "execution_count": 3,
   "id": "d23ce836",
   "metadata": {},
   "outputs": [
    {
     "name": "stderr",
     "output_type": "stream",
     "text": [
      "/var/folders/7_/gv36hfkj3t3_fq5dhvcmxyr00000gn/T/ipykernel_41522/2086038131.py:2: RuntimeWarning: Did not find any event code with more than one event.\n",
      "  raw = mne.io.read_raw_egi(file_path, preload=True, verbose=False)\n"
     ]
    },
    {
     "data": {
      "text/html": [
       "\n",
       "\n",
       "<table class=\"table table-hover\">\n",
       "    <tr>\n",
       "        <th>Measurement date</th>\n",
       "        <td>May 17, 2022  12:03:25 GMT</td>\n",
       "        \n",
       "    </tr>\n",
       "    <tr>\n",
       "        <th>Experimenter</th>\n",
       "<td>Unknown</td>\n",
       "    </tr>\n",
       "        <th>Participant</th>\n",
       "<td>Unknown</td>\n",
       "    </tr>\n",
       "    <tr>\n",
       "        <th>Digitized points</th>\n",
       "        <td>Not available</td>\n",
       "    </tr>\n",
       "    <tr>\n",
       "        <th>Good channels</th>\n",
       "        <td>0 magnetometer, 0 gradiometer,\n",
       "            and 129 EEG channels</td>\n",
       "    </tr>\n",
       "    <tr>\n",
       "        <th>Bad channels</th>\n",
       "        <td></td>\n",
       "        \n",
       "    </tr>\n",
       "    <tr>\n",
       "        <th>EOG channels</th>\n",
       "        <td>Not available</td>\n",
       "    </tr>\n",
       "    <tr>\n",
       "        <th>ECG channels</th>\n",
       "        <td>Not available</td>\n",
       "    <tr>\n",
       "        <th>Sampling frequency</th>\n",
       "        <td>1000.00 Hz</td>\n",
       "    </tr>\n",
       "    <tr>\n",
       "        <th>Highpass</th>\n",
       "        <td>0.00 Hz</td>\n",
       "    </tr>\n",
       "     <tr>\n",
       "        <th>Lowpass</th>\n",
       "        <td>500.00 Hz</td>\n",
       "    </tr>\n",
       "\n",
       "    <tr>\n",
       "        <th>Filenames</th>\n",
       "        <td>HN22.S001.20220517.ECR_2022.raw</td>\n",
       "    </tr>\n",
       "    <tr>\n",
       "        <th>Duration</th>\n",
       "        <td>00:05:05 (HH:MM:SS)</td>\n",
       "    </tr>\n",
       "</table>\n"
      ],
      "text/plain": [
       "<RawEGI | HN22.S001.20220517.ECR_2022.raw, 129 x 305417 (305.4 s), ~300.7 MB, data loaded>"
      ]
     },
     "execution_count": 3,
     "metadata": {},
     "output_type": "execute_result"
    }
   ],
   "source": [
    "# Load demo data by using the read_raw_egi() function from MNE.\n",
    "raw = mne.io.read_raw_egi(file_path, preload=True, verbose=False)\n",
    "# Channel E129 is Cz and is the reference channel, let's rename\n",
    "raw.rename_channels({'E129':'Cz'})\n",
    "# Drop non-EEG channels\n",
    "raw.drop_channels(['eECR', 'info', 'sECR', 'STI 014'])"
   ]
  },
  {
   "cell_type": "code",
   "execution_count": 4,
   "id": "f6095db8",
   "metadata": {},
   "outputs": [
    {
     "data": {
      "text/html": [
       "\n",
       "\n",
       "<table class=\"table table-hover\">\n",
       "    <tr>\n",
       "        <th>Measurement date</th>\n",
       "        <td>May 17, 2022  12:03:25 GMT</td>\n",
       "        \n",
       "    </tr>\n",
       "    <tr>\n",
       "        <th>Experimenter</th>\n",
       "<td>Unknown</td>\n",
       "    </tr>\n",
       "        <th>Participant</th>\n",
       "<td>Unknown</td>\n",
       "    </tr>\n",
       "    <tr>\n",
       "        <th>Digitized points</th>\n",
       "        <td>132 points</td>\n",
       "    </tr>\n",
       "    <tr>\n",
       "        <th>Good channels</th>\n",
       "        <td>0 magnetometer, 0 gradiometer,\n",
       "            and 129 EEG channels</td>\n",
       "    </tr>\n",
       "    <tr>\n",
       "        <th>Bad channels</th>\n",
       "        <td></td>\n",
       "        \n",
       "    </tr>\n",
       "    <tr>\n",
       "        <th>EOG channels</th>\n",
       "        <td>Not available</td>\n",
       "    </tr>\n",
       "    <tr>\n",
       "        <th>ECG channels</th>\n",
       "        <td>Not available</td>\n",
       "    <tr>\n",
       "        <th>Sampling frequency</th>\n",
       "        <td>1000.00 Hz</td>\n",
       "    </tr>\n",
       "    <tr>\n",
       "        <th>Highpass</th>\n",
       "        <td>0.00 Hz</td>\n",
       "    </tr>\n",
       "     <tr>\n",
       "        <th>Lowpass</th>\n",
       "        <td>500.00 Hz</td>\n",
       "    </tr>\n",
       "\n",
       "    <tr>\n",
       "        <th>Filenames</th>\n",
       "        <td>HN22.S001.20220517.ECR_2022.raw</td>\n",
       "    </tr>\n",
       "    <tr>\n",
       "        <th>Duration</th>\n",
       "        <td>00:05:05 (HH:MM:SS)</td>\n",
       "    </tr>\n",
       "</table>\n"
      ],
      "text/plain": [
       "<RawEGI | HN22.S001.20220517.ECR_2022.raw, 129 x 305417 (305.4 s), ~300.8 MB, data loaded>"
      ]
     },
     "execution_count": 4,
     "metadata": {},
     "output_type": "execute_result"
    }
   ],
   "source": [
    "# Read and set montage\n",
    "montage = mne.channels.read_custom_montage(montage_path)\n",
    "raw.set_montage(montage)"
   ]
  },
  {
   "cell_type": "markdown",
   "id": "03421071",
   "metadata": {},
   "source": [
    "### 2. Bandpass filter the signal\n",
    "<font size=\"3\">As an example, we will apply a bandpass-filter outside of RV before we load it in RV (Note that this can also be done within RV): a high-pass filter can remove slow drifts, while a low-pass filter will get rid of high-frequency artifacts. This can make visual inspection easier.</font>"
   ]
  },
  {
   "cell_type": "code",
   "execution_count": 5,
   "id": "31fc1b64",
   "metadata": {},
   "outputs": [
    {
     "data": {
      "text/html": [
       "\n",
       "\n",
       "<table class=\"table table-hover\">\n",
       "    <tr>\n",
       "        <th>Measurement date</th>\n",
       "        <td>May 17, 2022  12:03:25 GMT</td>\n",
       "        \n",
       "    </tr>\n",
       "    <tr>\n",
       "        <th>Experimenter</th>\n",
       "<td>Unknown</td>\n",
       "    </tr>\n",
       "        <th>Participant</th>\n",
       "<td>Unknown</td>\n",
       "    </tr>\n",
       "    <tr>\n",
       "        <th>Digitized points</th>\n",
       "        <td>132 points</td>\n",
       "    </tr>\n",
       "    <tr>\n",
       "        <th>Good channels</th>\n",
       "        <td>0 magnetometer, 0 gradiometer,\n",
       "            and 129 EEG channels</td>\n",
       "    </tr>\n",
       "    <tr>\n",
       "        <th>Bad channels</th>\n",
       "        <td></td>\n",
       "        \n",
       "    </tr>\n",
       "    <tr>\n",
       "        <th>EOG channels</th>\n",
       "        <td>Not available</td>\n",
       "    </tr>\n",
       "    <tr>\n",
       "        <th>ECG channels</th>\n",
       "        <td>Not available</td>\n",
       "    <tr>\n",
       "        <th>Sampling frequency</th>\n",
       "        <td>1000.00 Hz</td>\n",
       "    </tr>\n",
       "    <tr>\n",
       "        <th>Highpass</th>\n",
       "        <td>1.00 Hz</td>\n",
       "    </tr>\n",
       "     <tr>\n",
       "        <th>Lowpass</th>\n",
       "        <td>45.00 Hz</td>\n",
       "    </tr>\n",
       "\n",
       "    <tr>\n",
       "        <th>Filenames</th>\n",
       "        <td>HN22.S001.20220517.ECR_2022.raw</td>\n",
       "    </tr>\n",
       "    <tr>\n",
       "        <th>Duration</th>\n",
       "        <td>00:05:05 (HH:MM:SS)</td>\n",
       "    </tr>\n",
       "</table>\n"
      ],
      "text/plain": [
       "<RawEGI | HN22.S001.20220517.ECR_2022.raw, 129 x 305417 (305.4 s), ~300.8 MB, data loaded>"
      ]
     },
     "execution_count": 5,
     "metadata": {},
     "output_type": "execute_result"
    }
   ],
   "source": [
    "raw_copy = raw.copy()\n",
    "bandpass_lfreq = 1\n",
    "bandpass_hfreq = 45\n",
    "notch_freq = 50\n",
    "filtered_signal = raw_copy.filter(bandpass_lfreq, bandpass_hfreq, fir_window='hamming', fir_design=\"firwin\", verbose=0)\n",
    "# filtered_signal.notch_filter(notch_freq, fir_design=\"firwin\", verbose=0)"
   ]
  },
  {
   "cell_type": "markdown",
   "id": "db539e18",
   "metadata": {},
   "source": [
    "### 3. Clean the filtered signal\n",
    "<font size=\"3\">We will demonstrate how to use RV to mark bad channels and transient artifacts.</font>\n",
    "\n",
    "#### Starting RV \n",
    "<font size=\"3\">To start RV, run the cell below. You will see a link where the interactive web application is running. Copy this link into the webbrowser of your choice. The initial screen of RV contains a pop-up window where the EEG data is loaded and all of the preprocessing and visualization settings are defined. This is also where you activate the deep-learning model.</font>\n",
    "\n",
    "<font size=\"3\">To increase the performance of interactive visualization, the data will be downsampled. This will be reflected by the parameter in the **\"Resampling rate\"** field, the value for which is defined in the following cell. To further speed up the performance, you should segment the recording. For this put, your desired segment length in seconds (e.g. 30) into the field called **\"Segment size\"**.</font>\n",
    "\n",
    "<font size=\"3\">To display the EEG signal, press the **\"Plot\"** button, which will close the pop-up window and lead you to a loading screen after which the main GUI and the signal will be displayed. Note that pressing the **\"Plot\"** button again will reset your view including all marked bad channels and annotated artifacts.</font>\n",
    "\n",
    "<font size=\"3\">Use the \"->\" and \"<-\" buttons to move to the next or previous 10 seconds, respectively.</font>\n",
    "\n",
    "##### Marking bad channels in RV\n",
    "\n",
    "<font size=\"3\">In the menu bar at the top, there is a dropdown menu which is used to select channels to mark them as \"bad\". When this dropdown menu is clicked, all EEG channels are listed for selection. Additionally, you can type the channels’ names yourself and hence narrow down the selection of options. After having selected bad channels, you will have to redraw the signal (press **\"Redraw\"** button to the right) in order for these channels to be marked in gray and for the **\"Hide/show bad channels\"** button to become active. If the loaded recording already includes marked bad channels, they will automatically be selected in this dropdown menu upon loading.</font>\n",
    "\n",
    "##### Annotate artifacts using RV (guided by a deep-learning model)\n",
    "<font size=\"3\">As a guidance to detect artifacts, you can use the deep-learning model which was trained to detect artifacts in EEG data (Diachenko, M., Houtman, S. J., Juarez-Martinez, E. L., Ramautar, J. R., Weiler, R., Mansvelder, H. D., Bruining, H., Bloem, P., & Linkenkaer-Hansen K. (2022). Improved manual annotation of EEG signals through convolutional neural network guidance. eNeuro. Unpublished manuscript.). It might help you make decisions when annotating the signal. Tick the box \"*run model from run_model.py*\" in the pop-up window when RV is started (**Note**: it may take some time to run). Additionally, you can also choose to automatically annotate the signal by the model by ticking the box \"*Annotate according to model with threshold*\" and typing in an artifact probability threshold (e.g. 0.5, meaning that predictions >= 0.5 will be labeled as artifacts). On inspection, you can deselect marked intervals if you do not agree with the model. Once in the viewer, you can click on \"**Highlight model channels** to see which channels were used by the model to make its predictions. \"</font> \n",
    "\n",
    "<font size=\"3\">Artifacts are best identified by scrolling through the data in segments of 10 seconds while viewing all of the channels. If needed, you can adjust the timeframe from showing the entire plot at once down to merely several milliseconds by clicking and dragging the edges of the slider at the bottom. Scrolling can also be done by dragging-and-dropping with the mouse or trackpad on the channel- or time-axis labels or selecting the 3. button in the taskbar (see below) and then dragging-and-dropping on the plot directly. </font>\n",
    "\n",
    "<font size=\"3\">The taskbar is located at the top right of the plot. From left to right, the following buttons are integrated:</font>\n",
    "1. Take a picture of the (annotated) EEG signal and download it as a .png file.\n",
    "2. Select an area to zoom in on (click-and-drag).\n",
    "3. Move view along the channel- or time-axis, or both simultaneously (click-and-drag).\n",
    "4. Select a segment of the data for which to calculate and display the main underlying frequency, as well as a power spectrum in “Power-spectrum” pop-up window, which can be reopened using the “Power spectrum” button in the menu bar (click-and-drag). It is possible to select all channels or only a few desired ones. The latter can be facilitated via the legend explained in Section 3.3.5.\n",
    "5. (Activated by default) Select a segment of the plot to annotate, which creates a semi-transparent red box spanning the entire vertical axis in view (currently only annotations across all channels are supported) across the selected time interval (click-and-drag). These annotations can be freely adjusted in their position and size, or removed entirely (with button 6.), when clicked on. \n",
    "6. Delete the currently selected annotation.\n",
    "7. Zoom in.\n",
    "8. Zoom out.\n",
    "9. Zoom out as much as necessary to show all channels for the entire duration of the recording (or segment), including all peaks in the data (potentially produced by artifacts). \n",
    "10. Display a ruler from both axes to the datapoint currently hovered on.\n",
    "\n",
    "##### Saving changes\n",
    "\n",
    "<font size=\"3\">After you have finished marking bad channels and annotating artifacts, don't forget to save changes. The save-file will be saved to the \"*save_files*\" directory as defined earlier when you click on the \"**Quit**\" button at the top right. Alternatively, use the **\"Save to\"** button to give the save-file a custom name through the GUI.</font>"
   ]
  },
  {
   "cell_type": "code",
   "execution_count": 6,
   "id": "69ec4811",
   "metadata": {},
   "outputs": [
    {
     "name": "stdout",
     "output_type": "stream",
     "text": [
      "Setting raw to <RawEGI | HN22.S001.20220517.ECR_2022.raw, 129 x 305417 (305.4 s), ~300.8 MB, data loaded>\n",
      "<Info | 8 non-empty values\n",
      " bads: []\n",
      " ch_names: E1, E2, E3, E4, E5, E6, E7, E8, E9, E10, E11, E12, E13, E14, ...\n",
      " chs: 129 EEG\n",
      " custom_ref_applied: False\n",
      " dig: 132 items (3 Cardinal, 129 EEG)\n",
      " highpass: 1.0 Hz\n",
      " lowpass: 45.0 Hz\n",
      " meas_date: 2022-05-17 12:03:25 UTC\n",
      " nchan: 129\n",
      " projs: []\n",
      " sfreq: 1000.0 Hz\n",
      ">\n",
      "Dash app running on http://127.0.0.1:8050/\n"
     ]
    }
   ],
   "source": [
    "from RV import run_viewer\n",
    "\n",
    "# sampling frequency to be used for visualizing\n",
    "downsample_artifact_removal_freq = 200\n",
    "# Run Robin's viewer\n",
    "run_viewer(filtered_signal, os.path.join(outfolder, 'demo_signal_marked.fif'), {'sfreq': downsample_artifact_removal_freq})\n"
   ]
  },
  {
   "cell_type": "code",
   "execution_count": 7,
   "id": "736a169a",
   "metadata": {},
   "outputs": [
    {
     "name": "stdout",
     "output_type": "stream",
     "text": [
      "Opening raw data file ./save_files/HN22.S001.20220517.ECR_2022_marked.fif...\n"
     ]
    },
    {
     "name": "stderr",
     "output_type": "stream",
     "text": [
      "/var/folders/7_/gv36hfkj3t3_fq5dhvcmxyr00000gn/T/ipykernel_41522/3632862506.py:4: RuntimeWarning:\n",
      "\n",
      "This filename (./save_files/HN22.S001.20220517.ECR_2022_marked.fif) does not conform to MNE naming conventions. All raw files should end with raw.fif, raw_sss.fif, raw_tsss.fif, _meg.fif, _eeg.fif, _ieeg.fif, raw.fif.gz, raw_sss.fif.gz, raw_tsss.fif.gz, _meg.fif.gz, _eeg.fif.gz or _ieeg.fif.gz\n",
      "\n"
     ]
    },
    {
     "ename": "FileNotFoundError",
     "evalue": "fname does not exist: ./save_files/HN22.S001.20220517.ECR_2022_marked.fif",
     "output_type": "error",
     "traceback": [
      "\u001b[0;31m---------------------------------------------------------------------------\u001b[0m",
      "\u001b[0;31mFileNotFoundError\u001b[0m                         Traceback (most recent call last)",
      "\u001b[1;32m/Users/robinweiler/Documents/RV/RV_demo.ipynb Cell 11'\u001b[0m in \u001b[0;36m<cell line: 4>\u001b[0;34m()\u001b[0m\n\u001b[1;32m      <a href='vscode-notebook-cell:/Users/robinweiler/Documents/RV/RV_demo.ipynb#ch0000017?line=1'>2</a>\u001b[0m inpath \u001b[39m=\u001b[39m os\u001b[39m.\u001b[39mpath\u001b[39m.\u001b[39mjoin(outfolder, file_name)\n\u001b[1;32m      <a href='vscode-notebook-cell:/Users/robinweiler/Documents/RV/RV_demo.ipynb#ch0000017?line=2'>3</a>\u001b[0m \u001b[39m# Load the signal\u001b[39;00m\n\u001b[0;32m----> <a href='vscode-notebook-cell:/Users/robinweiler/Documents/RV/RV_demo.ipynb#ch0000017?line=3'>4</a>\u001b[0m marked_signal \u001b[39m=\u001b[39m mne\u001b[39m.\u001b[39;49mio\u001b[39m.\u001b[39;49mread_raw_fif(inpath, preload\u001b[39m=\u001b[39;49m\u001b[39mTrue\u001b[39;49;00m, verbose\u001b[39m=\u001b[39;49m\u001b[39m'\u001b[39;49m\u001b[39mINFO\u001b[39;49m\u001b[39m'\u001b[39;49m)\n",
      "File \u001b[0;32m~/opt/anaconda3/envs/RVenv/lib/python3.9/site-packages/mne/io/fiff/raw.py:473\u001b[0m, in \u001b[0;36mread_raw_fif\u001b[0;34m(fname, allow_maxshield, preload, on_split_missing, verbose)\u001b[0m\n\u001b[1;32m    <a href='file:///Users/robinweiler/opt/anaconda3/envs/RVenv/lib/python3.9/site-packages/mne/io/fiff/raw.py?line=437'>438</a>\u001b[0m \u001b[39m@fill_doc\u001b[39m\n\u001b[1;32m    <a href='file:///Users/robinweiler/opt/anaconda3/envs/RVenv/lib/python3.9/site-packages/mne/io/fiff/raw.py?line=438'>439</a>\u001b[0m \u001b[39mdef\u001b[39;00m \u001b[39mread_raw_fif\u001b[39m(fname, allow_maxshield\u001b[39m=\u001b[39m\u001b[39mFalse\u001b[39;00m, preload\u001b[39m=\u001b[39m\u001b[39mFalse\u001b[39;00m,\n\u001b[1;32m    <a href='file:///Users/robinweiler/opt/anaconda3/envs/RVenv/lib/python3.9/site-packages/mne/io/fiff/raw.py?line=439'>440</a>\u001b[0m                  on_split_missing\u001b[39m=\u001b[39m\u001b[39m'\u001b[39m\u001b[39mraise\u001b[39m\u001b[39m'\u001b[39m, verbose\u001b[39m=\u001b[39m\u001b[39mNone\u001b[39;00m):\n\u001b[1;32m    <a href='file:///Users/robinweiler/opt/anaconda3/envs/RVenv/lib/python3.9/site-packages/mne/io/fiff/raw.py?line=440'>441</a>\u001b[0m     \u001b[39m\"\"\"Reader function for Raw FIF data.\u001b[39;00m\n\u001b[1;32m    <a href='file:///Users/robinweiler/opt/anaconda3/envs/RVenv/lib/python3.9/site-packages/mne/io/fiff/raw.py?line=441'>442</a>\u001b[0m \n\u001b[1;32m    <a href='file:///Users/robinweiler/opt/anaconda3/envs/RVenv/lib/python3.9/site-packages/mne/io/fiff/raw.py?line=442'>443</a>\u001b[0m \u001b[39m    Parameters\u001b[39;00m\n\u001b[0;32m   (...)\u001b[0m\n\u001b[1;32m    <a href='file:///Users/robinweiler/opt/anaconda3/envs/RVenv/lib/python3.9/site-packages/mne/io/fiff/raw.py?line=470'>471</a>\u001b[0m \u001b[39m    .. versionadded:: 0.9.0\u001b[39;00m\n\u001b[1;32m    <a href='file:///Users/robinweiler/opt/anaconda3/envs/RVenv/lib/python3.9/site-packages/mne/io/fiff/raw.py?line=471'>472</a>\u001b[0m \u001b[39m    \"\"\"\u001b[39;00m\n\u001b[0;32m--> <a href='file:///Users/robinweiler/opt/anaconda3/envs/RVenv/lib/python3.9/site-packages/mne/io/fiff/raw.py?line=472'>473</a>\u001b[0m     \u001b[39mreturn\u001b[39;00m Raw(fname\u001b[39m=\u001b[39;49mfname, allow_maxshield\u001b[39m=\u001b[39;49mallow_maxshield,\n\u001b[1;32m    <a href='file:///Users/robinweiler/opt/anaconda3/envs/RVenv/lib/python3.9/site-packages/mne/io/fiff/raw.py?line=473'>474</a>\u001b[0m                preload\u001b[39m=\u001b[39;49mpreload, verbose\u001b[39m=\u001b[39;49mverbose,\n\u001b[1;32m    <a href='file:///Users/robinweiler/opt/anaconda3/envs/RVenv/lib/python3.9/site-packages/mne/io/fiff/raw.py?line=474'>475</a>\u001b[0m                on_split_missing\u001b[39m=\u001b[39;49mon_split_missing)\n",
      "File \u001b[0;32m<decorator-gen-210>:22\u001b[0m, in \u001b[0;36m__init__\u001b[0;34m(self, fname, allow_maxshield, preload, on_split_missing, verbose)\u001b[0m\n",
      "File \u001b[0;32m~/opt/anaconda3/envs/RVenv/lib/python3.9/site-packages/mne/io/fiff/raw.py:82\u001b[0m, in \u001b[0;36mRaw.__init__\u001b[0;34m(self, fname, allow_maxshield, preload, on_split_missing, verbose)\u001b[0m\n\u001b[1;32m     <a href='file:///Users/robinweiler/opt/anaconda3/envs/RVenv/lib/python3.9/site-packages/mne/io/fiff/raw.py?line=78'>79</a>\u001b[0m next_fname \u001b[39m=\u001b[39m fname\n\u001b[1;32m     <a href='file:///Users/robinweiler/opt/anaconda3/envs/RVenv/lib/python3.9/site-packages/mne/io/fiff/raw.py?line=79'>80</a>\u001b[0m \u001b[39mwhile\u001b[39;00m next_fname \u001b[39mis\u001b[39;00m \u001b[39mnot\u001b[39;00m \u001b[39mNone\u001b[39;00m:\n\u001b[1;32m     <a href='file:///Users/robinweiler/opt/anaconda3/envs/RVenv/lib/python3.9/site-packages/mne/io/fiff/raw.py?line=80'>81</a>\u001b[0m     raw, next_fname, buffer_size_sec \u001b[39m=\u001b[39m \\\n\u001b[0;32m---> <a href='file:///Users/robinweiler/opt/anaconda3/envs/RVenv/lib/python3.9/site-packages/mne/io/fiff/raw.py?line=81'>82</a>\u001b[0m         \u001b[39mself\u001b[39;49m\u001b[39m.\u001b[39;49m_read_raw_file(next_fname, allow_maxshield,\n\u001b[1;32m     <a href='file:///Users/robinweiler/opt/anaconda3/envs/RVenv/lib/python3.9/site-packages/mne/io/fiff/raw.py?line=82'>83</a>\u001b[0m                             preload, do_check_ext)\n\u001b[1;32m     <a href='file:///Users/robinweiler/opt/anaconda3/envs/RVenv/lib/python3.9/site-packages/mne/io/fiff/raw.py?line=83'>84</a>\u001b[0m     do_check_ext \u001b[39m=\u001b[39m \u001b[39mFalse\u001b[39;00m\n\u001b[1;32m     <a href='file:///Users/robinweiler/opt/anaconda3/envs/RVenv/lib/python3.9/site-packages/mne/io/fiff/raw.py?line=84'>85</a>\u001b[0m     raws\u001b[39m.\u001b[39mappend(raw)\n",
      "File \u001b[0;32m<decorator-gen-211>:24\u001b[0m, in \u001b[0;36m_read_raw_file\u001b[0;34m(self, fname, allow_maxshield, preload, do_check_ext, verbose)\u001b[0m\n",
      "File \u001b[0;32m~/opt/anaconda3/envs/RVenv/lib/python3.9/site-packages/mne/io/fiff/raw.py:147\u001b[0m, in \u001b[0;36mRaw._read_raw_file\u001b[0;34m(self, fname, allow_maxshield, preload, do_check_ext, verbose)\u001b[0m\n\u001b[1;32m    <a href='file:///Users/robinweiler/opt/anaconda3/envs/RVenv/lib/python3.9/site-packages/mne/io/fiff/raw.py?line=144'>145</a>\u001b[0m     check_fname(fname, \u001b[39m'\u001b[39m\u001b[39mraw\u001b[39m\u001b[39m'\u001b[39m, endings)\n\u001b[1;32m    <a href='file:///Users/robinweiler/opt/anaconda3/envs/RVenv/lib/python3.9/site-packages/mne/io/fiff/raw.py?line=145'>146</a>\u001b[0m \u001b[39m# filename\u001b[39;00m\n\u001b[0;32m--> <a href='file:///Users/robinweiler/opt/anaconda3/envs/RVenv/lib/python3.9/site-packages/mne/io/fiff/raw.py?line=146'>147</a>\u001b[0m fname \u001b[39m=\u001b[39m _check_fname(fname, \u001b[39m'\u001b[39;49m\u001b[39mread\u001b[39;49m\u001b[39m'\u001b[39;49m, \u001b[39mTrue\u001b[39;49;00m, \u001b[39m'\u001b[39;49m\u001b[39mfname\u001b[39;49m\u001b[39m'\u001b[39;49m)\n\u001b[1;32m    <a href='file:///Users/robinweiler/opt/anaconda3/envs/RVenv/lib/python3.9/site-packages/mne/io/fiff/raw.py?line=147'>148</a>\u001b[0m ext \u001b[39m=\u001b[39m os\u001b[39m.\u001b[39mpath\u001b[39m.\u001b[39msplitext(fname)[\u001b[39m1\u001b[39m]\u001b[39m.\u001b[39mlower()\n\u001b[1;32m    <a href='file:///Users/robinweiler/opt/anaconda3/envs/RVenv/lib/python3.9/site-packages/mne/io/fiff/raw.py?line=148'>149</a>\u001b[0m whole_file \u001b[39m=\u001b[39m preload \u001b[39mif\u001b[39;00m \u001b[39m'\u001b[39m\u001b[39m.gz\u001b[39m\u001b[39m'\u001b[39m \u001b[39min\u001b[39;00m ext \u001b[39melse\u001b[39;00m \u001b[39mFalse\u001b[39;00m\n",
      "File \u001b[0;32m~/opt/anaconda3/envs/RVenv/lib/python3.9/site-packages/mne/utils/check.py:178\u001b[0m, in \u001b[0;36m_check_fname\u001b[0;34m(fname, overwrite, must_exist, name, need_dir)\u001b[0m\n\u001b[1;32m    <a href='file:///Users/robinweiler/opt/anaconda3/envs/RVenv/lib/python3.9/site-packages/mne/utils/check.py?line=174'>175</a>\u001b[0m             \u001b[39mraise\u001b[39;00m \u001b[39mPermissionError\u001b[39;00m(\n\u001b[1;32m    <a href='file:///Users/robinweiler/opt/anaconda3/envs/RVenv/lib/python3.9/site-packages/mne/utils/check.py?line=175'>176</a>\u001b[0m                 \u001b[39mf\u001b[39m\u001b[39m'\u001b[39m\u001b[39m{\u001b[39;00mname\u001b[39m}\u001b[39;00m\u001b[39m does not have read permissions: \u001b[39m\u001b[39m{\u001b[39;00mfname\u001b[39m}\u001b[39;00m\u001b[39m'\u001b[39m)\n\u001b[1;32m    <a href='file:///Users/robinweiler/opt/anaconda3/envs/RVenv/lib/python3.9/site-packages/mne/utils/check.py?line=176'>177</a>\u001b[0m \u001b[39melif\u001b[39;00m must_exist:\n\u001b[0;32m--> <a href='file:///Users/robinweiler/opt/anaconda3/envs/RVenv/lib/python3.9/site-packages/mne/utils/check.py?line=177'>178</a>\u001b[0m     \u001b[39mraise\u001b[39;00m \u001b[39mFileNotFoundError\u001b[39;00m(\u001b[39mf\u001b[39m\u001b[39m'\u001b[39m\u001b[39m{\u001b[39;00mname\u001b[39m}\u001b[39;00m\u001b[39m does not exist: \u001b[39m\u001b[39m{\u001b[39;00mfname\u001b[39m}\u001b[39;00m\u001b[39m'\u001b[39m)\n\u001b[1;32m    <a href='file:///Users/robinweiler/opt/anaconda3/envs/RVenv/lib/python3.9/site-packages/mne/utils/check.py?line=178'>179</a>\u001b[0m \u001b[39mreturn\u001b[39;00m \u001b[39mstr\u001b[39m(op\u001b[39m.\u001b[39mabspath(fname))\n",
      "\u001b[0;31mFileNotFoundError\u001b[0m: fname does not exist: ./save_files/HN22.S001.20220517.ECR_2022_marked.fif"
     ]
    },
    {
     "name": "stdout",
     "output_type": "stream",
     "text": [
      "Loading bad channel dropdown menu...\n",
      "Loading plot...\n",
      "Loading data...\n",
      "Pre-processing data...\n",
      "[]\n",
      "No automatic bad-channel detection\n",
      "No re-referencing\n",
      "Resample-rate: 200\n",
      "Performing resampling\n",
      "<Info | 8 non-empty values\n",
      " bads: []\n",
      " ch_names: E1, E2, E3, E4, E5, E6, E7, E8, E9, E10, E11, E12, E13, E14, ...\n",
      " chs: 129 EEG\n",
      " custom_ref_applied: False\n",
      " dig: 132 items (3 Cardinal, 129 EEG)\n",
      " highpass: 1.0 Hz\n",
      " lowpass: 45.0 Hz\n",
      " meas_date: 2022-05-17 12:03:25 UTC\n",
      " nchan: 129\n",
      " projs: []\n",
      " sfreq: 200.0 Hz\n",
      ">\n",
      "No specific channels selected\n",
      "Displaying all channels\n",
      "Length of recording in seconds: 305.415\n",
      "[]\n",
      "Loading bad channel dropdown menu...\n",
      "Preloading segments...\n",
      "[]\n",
      "Loading plot...\n",
      "Loading data...\n",
      "Pre-processing data...\n",
      "[]\n",
      "No automatic bad-channel detection\n",
      "No re-referencing\n",
      "Resample-rate: 200\n",
      "Performing resampling\n",
      "<Info | 8 non-empty values\n",
      " bads: []\n",
      " ch_names: E1, E2, E3, E4, E5, E6, E7, E8, E9, E10, E11, E12, E13, E14, ...\n",
      " chs: 129 EEG\n",
      " custom_ref_applied: False\n",
      " dig: 132 items (3 Cardinal, 129 EEG)\n",
      " highpass: 1.0 Hz\n",
      " lowpass: 45.0 Hz\n",
      " meas_date: 2022-05-17 12:03:25 UTC\n",
      " nchan: 129\n",
      " projs: []\n",
      " sfreq: 200.0 Hz\n",
      ">\n",
      "No specific channels selected\n",
      "Running model...\n",
      "Selected_channels ['E22', 'E33', 'E45', 'E58', 'E24', 'E36', 'E52', 'E70', 'E9', 'E122', 'E108', 'E96', 'E124', 'E104', 'E92', 'E83', 'E11', 'Cz', 'E62']\n",
      "Segmenting EEG ...\n",
      "Window size = 1.0, window overlap = 0.5\n",
      "Number of segments = 609\n",
      "Converting voltage EEG segments to TF images ...\n",
      "# cores 8\n",
      "cpu\n",
      "Applying tfCNN ...\n",
      "Device cpu\n",
      "Interpolating and smoothing predictions ...\n",
      "[0.91377316 0.91251097 0.91124878 ... 0.63391362 0.63470321 0.63549281]\n",
      "Length of predictions = 61000\n",
      "Displaying all channels\n",
      "Length of recording in seconds: 305.415\n",
      "[]\n",
      "Loading bad channel dropdown menu...\n",
      "Preloading segments...\n",
      "[]\n"
     ]
    }
   ],
   "source": [
    "file_name = \"demo_signal_marked.fif\"\n",
    "inpath = os.path.join(outfolder, file_name)\n",
    "# Load the signal\n",
    "marked_signal = mne.io.read_raw_fif(inpath, preload=True, verbose='INFO')"
   ]
  },
  {
   "cell_type": "code",
   "execution_count": null,
   "id": "bbd30c68",
   "metadata": {},
   "outputs": [
    {
     "name": "stdout",
     "output_type": "stream",
     "text": [
      "Number of channels: 129\n",
      "Bad channels: []\n"
     ]
    }
   ],
   "source": [
    "# Total number of channels\n",
    "print(\"Number of channels: {}\".format(len(marked_signal.ch_names)))\n",
    "# Bad channels marked\n",
    "print(\"Bad channels: {}\".format(marked_signal.info['bads']))\n",
    "# Annotations\n",
    "print(marked_signal.annotations)"
   ]
  }
 ],
 "metadata": {
  "interpreter": {
   "hash": "4ba4d32a63420f0989d825ec62a69823abfa94faa5128b24dc45916cf37022a4"
  },
  "kernelspec": {
   "display_name": "Python 3.9.12 ('RVenv')",
   "language": "python",
   "name": "python3"
  },
  "language_info": {
   "codemirror_mode": {
    "name": "ipython",
    "version": 3
   },
   "file_extension": ".py",
   "mimetype": "text/x-python",
   "name": "python",
   "nbconvert_exporter": "python",
   "pygments_lexer": "ipython3",
   "version": "3.9.12"
  }
 },
 "nbformat": 4,
 "nbformat_minor": 5
}
